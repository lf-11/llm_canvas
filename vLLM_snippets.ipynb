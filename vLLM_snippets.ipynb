{
 "cells": [
  {
   "cell_type": "code",
   "execution_count": null,
   "metadata": {},
   "outputs": [
    {
     "name": "stdout",
     "output_type": "stream",
     "text": [
      "Completion result: <openai.Stream object at 0x7a5604c82210>\n",
      "Completion(id='cmpl-ba43cbc08d824cc692982d7e3a13e1c8', choices=[CompletionChoice(finish_reason=None, index=0, logprobs=Logprobs(text_offset=[0], token_logprobs=[-2.9464657306671143], tokens=[' beautiful'], top_logprobs=[{' beautiful': -2.9464657306671143, ' city': -0.8995907306671143, ' vibr': -3.2745907306671143}]), text=' beautiful', stop_reason=None)], created=1731849182, model='/home/lukas/projects/LLM_testing/webui/text-generation-webui-main/models/Mistral-Small-Instruct-2409-Q6_K_L.gguf', object='text_completion', system_fingerprint=None, usage=None)\n",
      "Completion(id='cmpl-ba43cbc08d824cc692982d7e3a13e1c8', choices=[CompletionChoice(finish_reason=None, index=1, logprobs=Logprobs(text_offset=[0], token_logprobs=[-3.2745907306671143], tokens=[' vibr'], top_logprobs=[{' vibr': -3.2745907306671143, ' city': -0.8995907306671143, ' beautiful': -2.9464657306671143}]), text=' vibr', stop_reason=None)], created=1731849182, model='/home/lukas/projects/LLM_testing/webui/text-generation-webui-main/models/Mistral-Small-Instruct-2409-Q6_K_L.gguf', object='text_completion', system_fingerprint=None, usage=None)\n",
      "Completion(id='cmpl-ba43cbc08d824cc692982d7e3a13e1c8', choices=[CompletionChoice(finish_reason=None, index=0, logprobs=Logprobs(text_offset=[10], token_logprobs=[-0.2722904086112976], tokens=[' city'], top_logprobs=[{' city': -0.2722904086112976, ' and': -2.6629154682159424, ' place': -2.7410404682159424}]), text=' city', stop_reason=None)], created=1731849182, model='/home/lukas/projects/LLM_testing/webui/text-generation-webui-main/models/Mistral-Small-Instruct-2409-Q6_K_L.gguf', object='text_completion', system_fingerprint=None, usage=None)\n",
      "Completion(id='cmpl-ba43cbc08d824cc692982d7e3a13e1c8', choices=[CompletionChoice(finish_reason=None, index=1, logprobs=Logprobs(text_offset=[5], token_logprobs=[-0.0011363723315298557], tokens=['ant'], top_logprobs=[{'ant': -0.0011363723315298557, 'antly': -7.516761302947998, 'ating': -7.704261302947998}]), text='ant', stop_reason=None)], created=1731849182, model='/home/lukas/projects/LLM_testing/webui/text-generation-webui-main/models/Mistral-Small-Instruct-2409-Q6_K_L.gguf', object='text_completion', system_fingerprint=None, usage=None)\n",
      "Completion(id='cmpl-ba43cbc08d824cc692982d7e3a13e1c8', choices=[CompletionChoice(finish_reason=None, index=1, logprobs=Logprobs(text_offset=[8], token_logprobs=[-0.2979557514190674], tokens=[' city'], top_logprobs=[{' city': -0.2979557514190674, ' and': -1.8135807514190674, ',': -2.9542057514190674}]), text=' city', stop_reason=None)], created=1731849182, model='/home/lukas/projects/LLM_testing/webui/text-generation-webui-main/models/Mistral-Small-Instruct-2409-Q6_K_L.gguf', object='text_completion', system_fingerprint=None, usage=None)\n",
      "Completion(id='cmpl-ba43cbc08d824cc692982d7e3a13e1c8', choices=[CompletionChoice(finish_reason=None, index=0, logprobs=Logprobs(text_offset=[15], token_logprobs=[-1.9211190938949585], tokens=[','], top_logprobs=[{',': -1.9211190938949585, ' with': -1.4054940938949585, ' that': -2.303931713104248}]), text=',', stop_reason=None)], created=1731849182, model='/home/lukas/projects/LLM_testing/webui/text-generation-webui-main/models/Mistral-Small-Instruct-2409-Q6_K_L.gguf', object='text_completion', system_fingerprint=None, usage=None)\n",
      "Completion(id='cmpl-ba43cbc08d824cc692982d7e3a13e1c8', choices=[CompletionChoice(finish_reason=None, index=1, logprobs=Logprobs(text_offset=[13], token_logprobs=[-1.0519886016845703], tokens=[' with'], top_logprobs=[{' with': -1.0519886016845703, ' that': -1.9504261016845703, ' known': -2.0129261016845703}]), text=' with', stop_reason=None)], created=1731849182, model='/home/lukas/projects/LLM_testing/webui/text-generation-webui-main/models/Mistral-Small-Instruct-2409-Q6_K_L.gguf', object='text_completion', system_fingerprint=None, usage=None)\n",
      "Completion(id='cmpl-ba43cbc08d824cc692982d7e3a13e1c8', choices=[CompletionChoice(finish_reason=None, index=0, logprobs=Logprobs(text_offset=[16], token_logprobs=[-1.4124079942703247], tokens=[' but'], top_logprobs=[{' but': -1.4124079942703247, ' and': -1.6077204942703247, ' with': -2.154595375061035}]), text=' but', stop_reason=None)], created=1731849182, model='/home/lukas/projects/LLM_testing/webui/text-generation-webui-main/models/Mistral-Small-Instruct-2409-Q6_K_L.gguf', object='text_completion', system_fingerprint=None, usage=None)\n",
      "Completion(id='cmpl-ba43cbc08d824cc692982d7e3a13e1c8', choices=[CompletionChoice(finish_reason=None, index=1, logprobs=Logprobs(text_offset=[18], token_logprobs=[-2.480776786804199], tokens=[' many'], top_logprobs=[{' many': -2.480776786804199, ' a': -0.5120269060134888, ' plenty': -3.074526786804199}]), text=' many', stop_reason=None)], created=1731849182, model='/home/lukas/projects/LLM_testing/webui/text-generation-webui-main/models/Mistral-Small-Instruct-2409-Q6_K_L.gguf', object='text_completion', system_fingerprint=None, usage=None)\n",
      "Completion(id='cmpl-ba43cbc08d824cc692982d7e3a13e1c8', choices=[CompletionChoice(finish_reason=None, index=0, logprobs=Logprobs(text_offset=[20], token_logprobs=[-3.810462474822998], tokens=[' one'], top_logprobs=[{' one': -3.810462474822998, ' it': -0.9120248556137085, ' the': -2.810462474822998, ' its': -3.310462474822998}]), text=' one', stop_reason=None)], created=1731849182, model='/home/lukas/projects/LLM_testing/webui/text-generation-webui-main/models/Mistral-Small-Instruct-2409-Q6_K_L.gguf', object='text_completion', system_fingerprint=None, usage=None)\n",
      "Completion(id='cmpl-ba43cbc08d824cc692982d7e3a13e1c8', choices=[CompletionChoice(finish_reason=None, index=1, logprobs=Logprobs(text_offset=[23], token_logprobs=[-2.348456859588623], tokens=[' things'], top_logprobs=[{' things': -2.348456859588623, ' attra': -1.903144359588623, ' exciting': -2.746894359588623}]), text=' things', stop_reason=None)], created=1731849182, model='/home/lukas/projects/LLM_testing/webui/text-generation-webui-main/models/Mistral-Small-Instruct-2409-Q6_K_L.gguf', object='text_completion', system_fingerprint=None, usage=None)\n",
      "Completion(id='cmpl-ba43cbc08d824cc692982d7e3a13e1c8', choices=[CompletionChoice(finish_reason=None, index=0, logprobs=Logprobs(text_offset=[24], token_logprobs=[-1.617417812347412], tokens=[' that'], top_logprobs=[{' that': -1.617417812347412, ' of': -0.9689802527427673, ' thing': -1.640855312347412}]), text=' that', stop_reason=None)], created=1731849182, model='/home/lukas/projects/LLM_testing/webui/text-generation-webui-main/models/Mistral-Small-Instruct-2409-Q6_K_L.gguf', object='text_completion', system_fingerprint=None, usage=None)\n",
      "Completion(id='cmpl-ba43cbc08d824cc692982d7e3a13e1c8', choices=[CompletionChoice(finish_reason=None, index=1, logprobs=Logprobs(text_offset=[30], token_logprobs=[-0.014463817700743675], tokens=[' to'], top_logprobs=[{' to': -0.014463817700743675, ' for': -5.584776401519775, ' going': -5.655088901519775}]), text=' to', stop_reason=None)], created=1731849182, model='/home/lukas/projects/LLM_testing/webui/text-generation-webui-main/models/Mistral-Small-Instruct-2409-Q6_K_L.gguf', object='text_completion', system_fingerprint=None, usage=None)\n",
      "Completion(id='cmpl-ba43cbc08d824cc692982d7e3a13e1c8', choices=[CompletionChoice(finish_reason=None, index=0, logprobs=Logprobs(text_offset=[29], token_logprobs=[-2.0071401596069336], tokens=[' can'], top_logprobs=[{' can': -2.0071401596069336, ' is': -1.4993276596069336, ' has': -2.1399526596069336}]), text=' can', stop_reason=None)], created=1731849182, model='/home/lukas/projects/LLM_testing/webui/text-generation-webui-main/models/Mistral-Small-Instruct-2409-Q6_K_L.gguf', object='text_completion', system_fingerprint=None, usage=None)\n",
      "Completion(id='cmpl-ba43cbc08d824cc692982d7e3a13e1c8', choices=[CompletionChoice(finish_reason=None, index=1, logprobs=Logprobs(text_offset=[33], token_logprobs=[-1.0378096103668213], tokens=[' see'], top_logprobs=[{' see': -1.0378096103668213, ' do': -0.5378096699714661, ' offer': -3.3346846103668213}]), text=' see', stop_reason=None)], created=1731849182, model='/home/lukas/projects/LLM_testing/webui/text-generation-webui-main/models/Mistral-Small-Instruct-2409-Q6_K_L.gguf', object='text_completion', system_fingerprint=None, usage=None)\n",
      "Completion(id='cmpl-ba43cbc08d824cc692982d7e3a13e1c8', choices=[CompletionChoice(finish_reason=None, index=0, logprobs=Logprobs(text_offset=[33], token_logprobs=[-3.6553874015808105], tokens=[' often'], top_logprobs=[{' often': -3.6553874015808105, ' be': -0.5147625207901001, ' also': -2.4288249015808105, ' get': -3.1085124015808105}]), text=' often', stop_reason=None)], created=1731849182, model='/home/lukas/projects/LLM_testing/webui/text-generation-webui-main/models/Mistral-Small-Instruct-2409-Q6_K_L.gguf', object='text_completion', system_fingerprint=None, usage=None)\n",
      "Completion(id='cmpl-ba43cbc08d824cc692982d7e3a13e1c8', choices=[CompletionChoice(finish_reason=None, index=1, logprobs=Logprobs(text_offset=[37], token_logprobs=[-0.047822579741477966], tokens=[' and'], top_logprobs=[{' and': -0.047822579741477966, ',': -3.4853224754333496, '.': -4.32907247543335}]), text=' and', stop_reason=None)], created=1731849182, model='/home/lukas/projects/LLM_testing/webui/text-generation-webui-main/models/Mistral-Small-Instruct-2409-Q6_K_L.gguf', object='text_completion', system_fingerprint=None, usage=None)\n",
      "Completion(id='cmpl-ba43cbc08d824cc692982d7e3a13e1c8', choices=[CompletionChoice(finish_reason=None, index=0, logprobs=Logprobs(text_offset=[39], token_logprobs=[-4.740297317504883], tokens=[' overwhel'], top_logprobs=[{' overwhel': -4.740297317504883, ' be': -0.7481098175048828, ' feel': -1.6934223175048828, ' seem': -3.029359817504883}]), text=' overwhel', stop_reason=None)], created=1731849182, model='/home/lukas/projects/LLM_testing/webui/text-generation-webui-main/models/Mistral-Small-Instruct-2409-Q6_K_L.gguf', object='text_completion', system_fingerprint=None, usage=None)\n",
      "Completion(id='cmpl-ba43cbc08d824cc692982d7e3a13e1c8', choices=[CompletionChoice(finish_reason=None, index=1, logprobs=Logprobs(text_offset=[41], token_logprobs=[-0.029514562338590622], tokens=[' do'], top_logprobs=[{' do': -0.029514562338590622, ' experience': -4.435764789581299, ' explore': -5.029514789581299}]), text=' do', stop_reason=None)], created=1731849182, model='/home/lukas/projects/LLM_testing/webui/text-generation-webui-main/models/Mistral-Small-Instruct-2409-Q6_K_L.gguf', object='text_completion', system_fingerprint=None, usage=None)\n",
      "Completion(id='cmpl-ba43cbc08d824cc692982d7e3a13e1c8', choices=[CompletionChoice(finish_reason=None, index=0, logprobs=Logprobs(text_offset=[48], token_logprobs=[-0.0005255748401395977], tokens=['m'], top_logprobs=[{'m': -0.0005255748401395977, 'ms': -7.62552547454834, 'me': -11.28958797454834}]), text='m', stop_reason=None)], created=1731849182, model='/home/lukas/projects/LLM_testing/webui/text-generation-webui-main/models/Mistral-Small-Instruct-2409-Q6_K_L.gguf', object='text_completion', system_fingerprint=None, usage=None)\n",
      "Completion(id='cmpl-ba43cbc08d824cc692982d7e3a13e1c8', choices=[CompletionChoice(finish_reason=None, index=1, logprobs=Logprobs(text_offset=[44], token_logprobs=[-0.17770510911941528], tokens=['.'], top_logprobs=[{'.': -0.17770510911941528, ',': -2.1777050495147705, ' for': -4.74020528793335}]), text='.', stop_reason=None)], created=1731849182, model='/home/lukas/projects/LLM_testing/webui/text-generation-webui-main/models/Mistral-Small-Instruct-2409-Q6_K_L.gguf', object='text_completion', system_fingerprint=None, usage=None)\n",
      "Completion(id='cmpl-ba43cbc08d824cc692982d7e3a13e1c8', choices=[CompletionChoice(finish_reason=None, index=0, logprobs=Logprobs(text_offset=[49], token_logprobs=[-4.9507341384887695], tokens=[' residents'], top_logprobs=[{' residents': -4.9507341384887695, ' the': -1.6147968769073486, ' visitors': -1.6694843769073486, ' you': -2.3960468769073486}]), text=' residents', stop_reason=None)], created=1731849182, model='/home/lukas/projects/LLM_testing/webui/text-generation-webui-main/models/Mistral-Small-Instruct-2409-Q6_K_L.gguf', object='text_completion', system_fingerprint=None, usage=None)\n",
      "Completion(id='cmpl-ba43cbc08d824cc692982d7e3a13e1c8', choices=[CompletionChoice(finish_reason=None, index=1, logprobs=Logprobs(text_offset=[45], token_logprobs=[-3.0422654151916504], tokens=[' However'], top_logprobs=[{' However': -3.0422654151916504, ' If': -1.86257803440094, ' Whether': -2.0500779151916504, ' Here': -2.1594529151916504}]), text=' However', stop_reason=None)], created=1731849182, model='/home/lukas/projects/LLM_testing/webui/text-generation-webui-main/models/Mistral-Small-Instruct-2409-Q6_K_L.gguf', object='text_completion', system_fingerprint=None, usage=None)\n",
      "Completion(id='cmpl-ba43cbc08d824cc692982d7e3a13e1c8', choices=[CompletionChoice(finish_reason=None, index=0, logprobs=Logprobs(text_offset=[59], token_logprobs=[-0.3627552092075348], tokens=[' and'], top_logprobs=[{' and': -0.3627552092075348, ' with': -1.5658801794052124, '.': -3.729942798614502}]), text=' and', stop_reason=None)], created=1731849182, model='/home/lukas/projects/LLM_testing/webui/text-generation-webui-main/models/Mistral-Small-Instruct-2409-Q6_K_L.gguf', object='text_completion', system_fingerprint=None, usage=None)\n",
      "Completion(id='cmpl-ba43cbc08d824cc692982d7e3a13e1c8', choices=[CompletionChoice(finish_reason=None, index=1, logprobs=Logprobs(text_offset=[53], token_logprobs=[-0.0010967198759317398], tokens=[','], top_logprobs=[{',': -0.0010967198759317398, ' it': -8.719846725463867, ' if': -8.993284225463867}]), text=',', stop_reason=None)], created=1731849182, model='/home/lukas/projects/LLM_testing/webui/text-generation-webui-main/models/Mistral-Small-Instruct-2409-Q6_K_L.gguf', object='text_completion', system_fingerprint=None, usage=None)\n",
      "Completion(id='cmpl-ba43cbc08d824cc692982d7e3a13e1c8', choices=[CompletionChoice(finish_reason=None, index=0, logprobs=Logprobs(text_offset=[63], token_logprobs=[-0.3609103262424469], tokens=[' visitors'], top_logprobs=[{' visitors': -0.3609103262424469, ' tourists': -1.3765352964401245, ' new': -4.212472915649414}]), text=' visitors', stop_reason=None)], created=1731849182, model='/home/lukas/projects/LLM_testing/webui/text-generation-webui-main/models/Mistral-Small-Instruct-2409-Q6_K_L.gguf', object='text_completion', system_fingerprint=None, usage=None)\n",
      "Completion(id='cmpl-ba43cbc08d824cc692982d7e3a13e1c8', choices=[CompletionChoice(finish_reason=None, index=1, logprobs=Logprobs(text_offset=[54], token_logprobs=[-1.521130919456482], tokens=[' if'], top_logprobs=[{' if': -1.521130919456482, ' it': -1.552380919456482, ' with': -2.5367560386657715}]), text=' if', stop_reason=None)], created=1731849182, model='/home/lukas/projects/LLM_testing/webui/text-generation-webui-main/models/Mistral-Small-Instruct-2409-Q6_K_L.gguf', object='text_completion', system_fingerprint=None, usage=None)\n",
      "Completion(id='cmpl-ba43cbc08d824cc692982d7e3a13e1c8', choices=[CompletionChoice(finish_reason=None, index=0, logprobs=Logprobs(text_offset=[72], token_logprobs=[-0.46892645955085754], tokens=[' alike'], top_logprobs=[{' alike': -0.46892645955085754, ' with': -1.1876764297485352, '.': -3.632988929748535}]), text=' alike', stop_reason=None)], created=1731849182, model='/home/lukas/projects/LLM_testing/webui/text-generation-webui-main/models/Mistral-Small-Instruct-2409-Q6_K_L.gguf', object='text_completion', system_fingerprint=None, usage=None)\n",
      "Completion(id='cmpl-ba43cbc08d824cc692982d7e3a13e1c8', choices=[CompletionChoice(finish_reason=None, index=1, logprobs=Logprobs(text_offset=[57], token_logprobs=[-0.012608104385435581], tokens=[' you'], top_logprobs=[{' you': -0.012608104385435581, ' your': -5.746983051300049, ' it': -6.161045551300049}]), text=' you', stop_reason=None)], created=1731849182, model='/home/lukas/projects/LLM_testing/webui/text-generation-webui-main/models/Mistral-Small-Instruct-2409-Q6_K_L.gguf', object='text_completion', system_fingerprint=None, usage=None)\n",
      "Completion(id='cmpl-ba43cbc08d824cc692982d7e3a13e1c8', choices=[CompletionChoice(finish_reason=None, index=0, logprobs=Logprobs(text_offset=[78], token_logprobs=[-0.5391141176223755], tokens=[' with'], top_logprobs=[{' with': -0.5391141176223755, '.': -1.1172391176223755, ' due': -3.429738998413086}]), text=' with', stop_reason=None)], created=1731849182, model='/home/lukas/projects/LLM_testing/webui/text-generation-webui-main/models/Mistral-Small-Instruct-2409-Q6_K_L.gguf', object='text_completion', system_fingerprint=None, usage=None)\n",
      "Completion(id='cmpl-ba43cbc08d824cc692982d7e3a13e1c8', choices=[CompletionChoice(finish_reason='length', index=1, logprobs=Logprobs(text_offset=[61], token_logprobs=[-2.165325164794922], tokens=[\"'\"], top_logprobs=[{\"'\": -2.165325164794922, '’': -0.8059500455856323, ' are': -1.6653250455856323, ' only': -2.055950164794922}]), text=\"'\", stop_reason=None)], created=1731849182, model='/home/lukas/projects/LLM_testing/webui/text-generation-webui-main/models/Mistral-Small-Instruct-2409-Q6_K_L.gguf', object='text_completion', system_fingerprint=None, usage=None)\n",
      "Completion(id='cmpl-ba43cbc08d824cc692982d7e3a13e1c8', choices=[CompletionChoice(finish_reason='length', index=0, logprobs=Logprobs(text_offset=[83], token_logprobs=[-0.4440416991710663], tokens=[' its'], top_logprobs=[{' its': -0.4440416991710663, ' the': -1.8190417289733887, ' all': -3.4596667289733887}]), text=' its', stop_reason=None)], created=1731849182, model='/home/lukas/projects/LLM_testing/webui/text-generation-webui-main/models/Mistral-Small-Instruct-2409-Q6_K_L.gguf', object='text_completion', system_fingerprint=None, usage=None)\n"
     ]
    }
   ],
   "source": [
    "# Completions API\n",
    "\n",
    "from openai import OpenAI\n",
    "\n",
    "MISTRAL = \"/home/lukas/projects/LLM_testing/webui/text-generation-webui-main/models/Mistral-Small-Instruct-2409-Q6_K_L.gguf\"\n",
    "\n",
    "# Modify OpenAI's API key and API base to use vLLM's API server.\n",
    "openai_api_key = \"EMPTY\"\n",
    "openai_api_base = \"http://localhost:8000/v1\"\n",
    "client = OpenAI(\n",
    "    api_key=openai_api_key,\n",
    "    base_url=openai_api_base,\n",
    ")\n",
    "stream = True\n",
    "\n",
    "completion = client.completions.create(\n",
    "    model=MISTRAL,\n",
    "    prompt=\"San Francisco is a\",\n",
    "    n= 2,\n",
    "    logprobs = 3,\n",
    "    stream=stream\n",
    "    )\n",
    "print(\"Completion result:\", completion)\n",
    "if stream:\n",
    "    for c in completion:\n",
    "        print(c)\n",
    "else:\n",
    "    print(completion)"
   ]
  },
  {
   "cell_type": "code",
   "execution_count": 4,
   "metadata": {},
   "outputs": [
    {
     "name": "stdout",
     "output_type": "stream",
     "text": [
      "Chat response: ChatCompletion(id='chat-34c88fcd38cf40b2abdf7e3b8f4103c6', choices=[Choice(finish_reason='stop', index=0, logprobs=None, message=ChatCompletionMessage(content=' It seems like you\\'re asking about San Francisco, often abbreviated as SF. San Francisco is a city located in the state of California, United States. Here are some key points about it:\\n\\n1. **Location**: San Francisco is situated on the western coast of the United States, at the tip of the San Francisco Peninsula. It\\'s known for its steep rolling hills, iconic Golden Gate Bridge, and distinctive fog.\\n\\n2. **Population**: As of 2021, the population of San Francisco is approximately 881,549, making it the fourth most populous city in California.\\n\\n3. **Culture and Attractions**:\\n   - **Golden Gate Bridge**: An iconic suspension bridge that spans the Golden Gate Strait, connecting San Francisco Bay and the Pacific Ocean.\\n   - **Fisherman\\'s Wharf**: A famous waterfront area that\\'s home to Pier 39, where you can see sea lions, and Ghirardelli Square, a historic landmark with shops and restaurants.\\n   - **Alcatraz Island**: A former federal prison that\\'s now a popular tourist destination.\\n   - **Cable Cars**: San Francisco is famous for its historic cable car system, which has been designated as a National Historic Landmark.\\n   - **Chinatown**: One of the largest Chinatowns outside of Asia, and the oldest in North America.\\n\\n4. **Economy**: San Francisco is a major financial and cultural center, with a significant presence of technology companies. It\\'s often referred to as the \"tech capital of the world\" due to the large number of startups and tech companies based there.\\n\\n5. **Education**: The city is home to several notable universities, including the University of California, San Francisco (UCSF), and the University of San Francisco (USF).\\n\\n6. **Climate**: San Francisco is known for its cool summers, mild winters, and foggy conditions, which give it a unique climate compared to other cities in the region.\\n\\n7. **Food**: San Francisco is famous for its diverse food scene, including seafood (like clam chowder in a sourdough bread bowl), Italian cuisine in North Beach, and a wide variety of international foods in the Mission District.\\n\\n8. **Sports**: The city is home to several professional sports teams, including the San Francisco Giants (baseball) and the San Francisco 49ers (football).', refusal=None, role='assistant', audio=None, function_call=None, tool_calls=[]), stop_reason=2)], created=1731850022, model='/home/lukas/projects/LLM_testing/webui/text-generation-webui-main/models/Mistral-Small-Instruct-2409-Q6_K_L.gguf', object='chat.completion', service_tier=None, system_fingerprint=None, usage=CompletionUsage(completion_tokens=545, prompt_tokens=13, total_tokens=558, completion_tokens_details=None, prompt_tokens_details=None), prompt_logprobs=None)\n"
     ]
    }
   ],
   "source": [
    "# Chat Completions API\n",
    "\n",
    "from openai import OpenAI\n",
    "# Set OpenAI's API key and API base to use vLLM's API server.\n",
    "openai_api_key = \"EMPTY\"\n",
    "openai_api_base = \"http://localhost:8000/v1\"\n",
    "\n",
    "MISTRAL = \"/home/lukas/projects/LLM_testing/webui/text-generation-webui-main/models/Mistral-Small-Instruct-2409-Q6_K_L.gguf\"\n",
    "\n",
    "\n",
    "client = OpenAI(\n",
    "    api_key=openai_api_key,\n",
    "    base_url=openai_api_base,\n",
    ")\n",
    "\n",
    "chat_response = client.chat.completions.create(\n",
    "    model=MISTRAL,\n",
    "    messages=[\n",
    "        {\"role\": \"system\", \"content\": \"You are a helpful assistant.\"},\n",
    "        {\"role\": \"user\", \"content\": \"Tell me about SF\"},\n",
    "    ]\n",
    ")\n",
    "print(\"Chat response:\", chat_response)"
   ]
  }
 ],
 "metadata": {
  "kernelspec": {
   "display_name": "base",
   "language": "python",
   "name": "python3"
  },
  "language_info": {
   "codemirror_mode": {
    "name": "ipython",
    "version": 3
   },
   "file_extension": ".py",
   "mimetype": "text/x-python",
   "name": "python",
   "nbconvert_exporter": "python",
   "pygments_lexer": "ipython3",
   "version": "3.12.2"
  }
 },
 "nbformat": 4,
 "nbformat_minor": 2
}
